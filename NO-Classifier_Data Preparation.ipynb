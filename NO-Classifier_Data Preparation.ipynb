{
 "cells": [
  {
   "cell_type": "code",
   "execution_count": null,
   "id": "8df8f06c",
   "metadata": {},
   "outputs": [],
   "source": [
    "#[0]이전실험, 데이터 재수령(200711)\n",
    "\n",
    "from e3fp.pipeline import confs_from_smiles\n",
    "from e3fp.pipeline import fprints_from_mol\n",
    "from e3fp.pipeline import mol_to_sdf"
   ]
  },
  {
   "cell_type": "code",
   "execution_count": null,
   "id": "18241c94",
   "metadata": {},
   "outputs": [],
   "source": [
    "#Q1) 최종 제출할 데이터 CSV 파일 만들어 여기서 불러오기 1.Active, 2.Inactive, 3. 3rd\n",
    "import pandas as pd\n",
    "df1 = pd.read_csv(\"NO inhibit(Final).CSV\", encoding='cp949')\n",
    "df = pd.read_csv(\"dataset_cleaned.csv\") "
   ]
  },
  {
   "cell_type": "code",
   "execution_count": null,
   "id": "ce9cab96",
   "metadata": {},
   "outputs": [],
   "source": [
    "#[1]제공된 Conf분리\n",
    "from rdkit import *\n",
    "from rdkit.Chem.EState import Fingerprinter\n",
    "from rdkit.Chem import *\n",
    "from rdkit.Chem.rdmolops import RDKFingerprint\n",
    "import pandas as pd\n",
    "import numpy as np\n",
    "from rdkit import Chem\n",
    "from rdkit.Chem import AllChem\n",
    "from rdkit.Chem.Draw import IPythonConsole\n",
    "IPythonConsole.ipython_useSVG=True"
   ]
  },
  {
   "cell_type": "code",
   "execution_count": null,
   "id": "a3e940c0",
   "metadata": {},
   "outputs": [],
   "source": [
    "#Q2) 바뀐 최종 제출 데이터에 맞춰서 코드 수정  및 실행\n",
    "\n",
    "#Read the data\n",
    "filename = 'NO_Inhibit'\n",
    "data = pd.read_csv(filename + '.csv')\n",
    "names = data['Num'].tolist()\n",
    "compound = data['Synonym'].tolist()\n",
    "\n",
    "#Add some new columns\n",
    "data['Mol'] = data['SMILES'].apply(Chem.MolFromSmiles)\n",
    "mols = data['Mol'].tolist()\n",
    "output = {}\n",
    "prefix = [str(x) for x in range(0, len(data))]\n",
    "mols = [ mol for mol in Chem.SDMolSupplier( filename + '.sdf', removeHs=True ) ]\n",
    "for i  in range (0, len(data)):\n",
    "    mols[i].SetProp(\"_Name\", str(names[i]))\n",
    "    mols[i].SetProp(\"Synonym\", str(compound[i]))\n",
    "    #output[i]=Chem.SDWriter('['+prefix[i]+']'+ names[i]+'.sdf')\n",
    "    output[i]=Chem.SDWriter(str(names[i])+'.sdf')\n",
    "    output[i].write(mols[i])\n",
    "    output[i].close()"
   ]
  },
  {
   "cell_type": "code",
   "execution_count": null,
   "id": "e328a9f3",
   "metadata": {},
   "outputs": [],
   "source": [
    "#[3]Active와 Inactive나누기\n",
    "import glob\n",
    "files = glob.glob( '*.sdf' )\n",
    "\n",
    "with open( 'Inactive.sdf', 'w' ) as result:\n",
    "    for file_ in files:\n",
    "        for line in open( file_, 'r' ):\n",
    "            result.write( line )     "
   ]
  },
  {
   "cell_type": "code",
   "execution_count": null,
   "id": "09aaee20",
   "metadata": {},
   "outputs": [],
   "source": [
    "import glob\n",
    "files = glob.glob( '*.sdf' )\n",
    "\n",
    "with open( 'Active.sdf', 'w' ) as result:\n",
    "    for file_ in files:\n",
    "        for line in open( file_, 'r' ):\n",
    "            result.write( line )"
   ]
  },
  {
   "cell_type": "code",
   "execution_count": null,
   "id": "8f594239",
   "metadata": {},
   "outputs": [],
   "source": [
    "import glob\n",
    "files = glob.glob( '*.sdf' )\n",
    "\n",
    "with open( '3rd-set.sdf', 'w' ) as result:\n",
    "    for file_ in files:\n",
    "        for line in open( file_, 'r' ):\n",
    "            result.write( line )"
   ]
  },
  {
   "cell_type": "code",
   "execution_count": null,
   "id": "4cdd400b",
   "metadata": {},
   "outputs": [],
   "source": [
    "#[2]Omega돌리기 - code는 omgega 결과물의 FP 생성임\n",
    "from e3fp.fingerprint.generate import fp, fprints_dict_from_mol, fprints_dict_from_sdf\n",
    "from e3fp.conformer.generate import generate_conformers\n",
    "from e3fp.pipeline import fprints_from_sdf, fprints_from_mol\n",
    "from e3fp.fingerprint.fprint import save, savez\n",
    "from e3fp.fingerprint.db import FingerprintDatabase\n",
    "from e3fp.fingerprint.fprint import Fingerprint"
   ]
  },
  {
   "cell_type": "code",
   "execution_count": null,
   "id": "9057cacc",
   "metadata": {},
   "outputs": [],
   "source": [
    "#Q3)  1.Active, 2.Inactive, 3. 3rd - 3개에 맞춰 수정\n",
    "\n",
    "# mols = [ mol for mol in Chem.SDMolSupplier(\"Inactive.sdf\", removeHs=True ) ]\n",
    "active = [ mol for mol in Chem.SDMolSupplier(\"Active.sdf\") ]\n",
    "inactive = [ mol for mol in Chem.SDMolSupplier(\"Inactive.sdf\") ]\n",
    "third = [ mol for mol in Chem.SDMolSupplier(\"3rd-set.sdf\") ]\n",
    "\n",
    "lens(active)\n",
    "lens(inactive)\n",
    "lens(third)\n",
    "\n",
    "# generate E3FP fingerprints and collect original molecule information\n",
    "activefp = [fprints_dict_from_mol( mol) for mol in active ]\n",
    "inactivefp = [fprints_dict_from_mol( mol) for mol in inactive ]\n",
    "thirdfp = [fprints_dict_from_mol( mol) for mol in third ]\n",
    "# fpdicts = [fprints_dict_from_mol(mol) for mol in mols ]\n",
    "\n",
    "binary = list()\n",
    "\n"
   ]
  },
  {
   "cell_type": "code",
   "execution_count": null,
   "id": "4c2b8563",
   "metadata": {},
   "outputs": [],
   "source": [
    "#Q3)  1.Active, 2.Inactive, 3. 3rd - 3개에 맞춰 수정\n",
    "#Parameter:\n",
    "#fp_type(type)–Type of fingerprint (Fingerprint, CountFingerprint, FloatFingerprint).\n",
    "#level(int)–Level, or number of iterations used during fingerprinting.\n",
    "#name(str)–Name of database\n",
    "\n",
    "db1 = FingerprintDatabase(fp_type = Fingerprint, level = 5, name = \"Active\")\n",
    "db2 = FingerprintDatabase(fp_type = Fingerprint, level = 5, name = \"Inactive\")\n",
    "db3 = FingerprintDatabase(fp_type = Fingerprint, level = 5, name = \"3rd-set\")\n",
    "print(len(db1))\n",
    "print(len(db2))\n",
    "print(len(db3))"
   ]
  },
  {
   "cell_type": "code",
   "execution_count": null,
   "id": "1292759e",
   "metadata": {},
   "outputs": [],
   "source": [
    "#Q3)  1.Active, 2.Inactive, 3. 3rd - 3개에 맞춰 수정\n",
    "\n",
    "on_inds  = [np.random. uniform(0, 2**32, size =30) for i in range (len(activefp))]\n",
    "fps  = [Fingerprint(x, bits = 2**32) for x in on_inds]\n",
    "\n",
    "#Parameter:\n",
    "#indices(array_like of int)–log2(bits)-bit indices in a sparse bitvector of bits which correspond to 1.\n",
    "#bits(int)–Number of bits in bitvector.\n",
    "#level(int)–Level of fingerprint, corresponding to fingerprinting iterations.\n",
    "#name(str)–Name of fingerprint.\n",
    "#props(dict)–Custom properties of fingerprint, consisting of a string keyword and some value.\n",
    "\n",
    "for i in range(len(activefp)):\n",
    "    db1.add_fingerprints(activefp[i][5])\n",
    "db1.savez('Active')"
   ]
  },
  {
   "cell_type": "code",
   "execution_count": null,
   "id": "79d19c97",
   "metadata": {},
   "outputs": [],
   "source": [
    "# define input and output files\n",
    "sdf_file = \"Active.sdf\"\n",
    "e3fp_file = \"Active.fps\"\n",
    "\n",
    "# generate E3FP fingerprints and collect original molecule information\n",
    "fps = []\n",
    "mol_info = []\n",
    "with open(sdf_file, \"rb\") as f:\n",
    "    suppl = Chem.ForwardSDMolSupplier(f)\n",
    "    for mol in suppl:\n",
    "        if mol is not None:\n",
    "            fpdicts = fprints_dict_from_mol(mol)\n",
    "            fps.append(fpdicts)\n",
    "            mol_info.append(mol)"
   ]
  },
  {
   "cell_type": "code",
   "execution_count": null,
   "id": "309ef1fa",
   "metadata": {},
   "outputs": [],
   "source": [
    "# create fingerprint database and save fingerprints and original molecule information\n",
    "\n",
    "for fp_dict, mol in zip(fps,mol_info):\n",
    "    for fp_key, fp_val in fp_dict.items():\n",
    "        entry = db1.set_prop(fp_key, fp_val)\n",
    "        entry.SetMol(mol)        \n",
    "        db1.add_fingerprints(fp_val)\n",
    "db1.savez(e3fp_file)"
   ]
  },
  {
   "cell_type": "code",
   "execution_count": null,
   "id": "5564f477",
   "metadata": {},
   "outputs": [],
   "source": [
    "# [5]GenFPBitLoc\n",
    "#Read Smiles List, Generate Fingerprint Database\n",
    "\n",
    "def find(s, ch):\n",
    "    return [i for i, ltr in enumerate(s) if ltr == ch]\n",
    "\n",
    "def generate_Loclist(db, data):\n",
    "    fpname = db.fp_names\n",
    "    binfp1 = [fp.fold().to_rdkit() for fp in db]\n",
    "    str1 = [fp.ToBitString() for fp in binfp1]\n",
    "    loclist = []\n",
    "\n",
    "    for i in range(len(str1)):\n",
    "        loclist.append(np.array(find(str1[i], '1')))\n",
    "        \n",
    "    data = data.astype({'Num': str})\n",
    "    \n",
    "    templist = []\n",
    "    for i in range(len(fpname)):\n",
    "        templist.append(fpname[i].split('_')[0])\n",
    "        \n",
    "    result = pd.DataFrame([fpname, loclist, templist]).T\n",
    "    result.columns = ['conf', 'Loc', 'Num']\n",
    "    result2 = pd.merge(result, data)\n",
    "    result2.to_csv('FPLoc.csv')\n",
    "    return result2"
   ]
  },
  {
   "cell_type": "code",
   "execution_count": null,
   "id": "e23c6ae0",
   "metadata": {},
   "outputs": [],
   "source": [
    "data = pd.read_csv('NO_Inhibit_Labeled.csv')\n",
    "\n",
    "fdb1 = FingerprintDatabase.load(\"Active.fps.bz2\")\n",
    "fdb2 = FingerprintDatabase.load(\"Inactive.fps.bz2\")\n",
    "\n",
    "result_Active = generate_Loclist(fdb1, data)\n",
    "result_InActive = generate_Loclist(fdb2, data)\n",
    "pd.concat([result_Active, result_InActive]).to_csv('dataset.csv')"
   ]
  }
 ],
 "metadata": {
  "kernelspec": {
   "display_name": "Python 3 (ipykernel)",
   "language": "python",
   "name": "python3"
  },
  "language_info": {
   "codemirror_mode": {
    "name": "ipython",
    "version": 3
   },
   "file_extension": ".py",
   "mimetype": "text/x-python",
   "name": "python",
   "nbconvert_exporter": "python",
   "pygments_lexer": "ipython3",
   "version": "3.7.13"
  }
 },
 "nbformat": 4,
 "nbformat_minor": 5
}
